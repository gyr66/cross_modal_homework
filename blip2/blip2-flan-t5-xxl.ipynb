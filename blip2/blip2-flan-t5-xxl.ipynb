{
 "cells": [
  {
   "cell_type": "code",
   "execution_count": 17,
   "metadata": {},
   "outputs": [],
   "source": [
    "import torch\n",
    "from accelerate import infer_auto_device_map, init_empty_weights\n",
    "from transformers import Blip2Processor, Blip2ForConditionalGeneration, Blip2Config\n",
    "from PIL import Image\n",
    "import requests"
   ]
  },
  {
   "cell_type": "code",
   "execution_count": 18,
   "metadata": {},
   "outputs": [],
   "source": [
    "CHECK_POINT = \"Salesforce/blip2-flan-t5-xxl\""
   ]
  },
  {
   "cell_type": "code",
   "execution_count": 19,
   "metadata": {},
   "outputs": [],
   "source": [
    "config = Blip2Config.from_pretrained(CHECK_POINT)\n",
    "with init_empty_weights():\n",
    "    model = Blip2ForConditionalGeneration(config)\n",
    "    model.tie_weights()"
   ]
  },
  {
   "cell_type": "code",
   "execution_count": 20,
   "metadata": {},
   "outputs": [],
   "source": [
    "device_map = infer_auto_device_map(model, no_split_module_classes=[\"T5Block\"], dtype=\"float32\", max_memory={0: \"10GiB\", 1: \"10GiB\", 2: \"10Gib\", 3: \"10Gib\", 4: \"9Gib\", 5: \"10Gib\", 6: \"10Gib\", 7: \"10Gib\"})"
   ]
  },
  {
   "cell_type": "code",
   "execution_count": 21,
   "metadata": {},
   "outputs": [
    {
     "data": {
      "text/plain": [
       "OrderedDict([('query_tokens', 0),\n",
       "             ('vision_model', 0),\n",
       "             ('qformer', 0),\n",
       "             ('language_projection', 0),\n",
       "             ('language_model.shared', 0),\n",
       "             ('language_model.decoder.embed_tokens', 0),\n",
       "             ('language_model.encoder.embed_tokens', 0),\n",
       "             ('language_model.encoder.block.0', 0),\n",
       "             ('language_model.encoder.block.1', 0),\n",
       "             ('language_model.encoder.block.2', 0),\n",
       "             ('language_model.encoder.block.3', 0),\n",
       "             ('language_model.encoder.block.4', 0),\n",
       "             ('language_model.encoder.block.5', 0),\n",
       "             ('language_model.encoder.block.6', 1),\n",
       "             ('language_model.encoder.block.7', 1),\n",
       "             ('language_model.encoder.block.8', 1),\n",
       "             ('language_model.encoder.block.9', 1),\n",
       "             ('language_model.encoder.block.10', 1),\n",
       "             ('language_model.encoder.block.11', 1),\n",
       "             ('language_model.encoder.block.12', 1),\n",
       "             ('language_model.encoder.block.13', 1),\n",
       "             ('language_model.encoder.block.14', 1),\n",
       "             ('language_model.encoder.block.15', 1),\n",
       "             ('language_model.encoder.block.16', 1),\n",
       "             ('language_model.encoder.block.17', 1),\n",
       "             ('language_model.encoder.block.18', 1),\n",
       "             ('language_model.encoder.block.19', 2),\n",
       "             ('language_model.encoder.block.20', 2),\n",
       "             ('language_model.encoder.block.21', 2),\n",
       "             ('language_model.encoder.block.22', 2),\n",
       "             ('language_model.encoder.block.23', 2),\n",
       "             ('language_model.encoder.final_layer_norm', 2),\n",
       "             ('language_model.encoder.dropout', 2),\n",
       "             ('language_model.decoder.block.0', 2),\n",
       "             ('language_model.decoder.block.1', 2),\n",
       "             ('language_model.decoder.block.2', 2),\n",
       "             ('language_model.decoder.block.3', 2),\n",
       "             ('language_model.decoder.block.4', 2),\n",
       "             ('language_model.decoder.block.5', 2),\n",
       "             ('language_model.decoder.block.6', 3),\n",
       "             ('language_model.decoder.block.7', 3),\n",
       "             ('language_model.decoder.block.8', 3),\n",
       "             ('language_model.decoder.block.9', 3),\n",
       "             ('language_model.decoder.block.10', 3),\n",
       "             ('language_model.decoder.block.11', 3),\n",
       "             ('language_model.decoder.block.12', 3),\n",
       "             ('language_model.decoder.block.13', 3),\n",
       "             ('language_model.decoder.block.14', 3),\n",
       "             ('language_model.decoder.block.15', 3),\n",
       "             ('language_model.decoder.block.16', 4),\n",
       "             ('language_model.decoder.block.17', 4),\n",
       "             ('language_model.decoder.block.18', 4),\n",
       "             ('language_model.decoder.block.19', 4),\n",
       "             ('language_model.decoder.block.20', 4),\n",
       "             ('language_model.decoder.block.21', 4),\n",
       "             ('language_model.decoder.block.22', 4),\n",
       "             ('language_model.decoder.block.23', 4),\n",
       "             ('language_model.decoder.final_layer_norm', 4),\n",
       "             ('language_model.decoder.dropout', 4),\n",
       "             ('language_model.lm_head', 4)])"
      ]
     },
     "execution_count": 21,
     "metadata": {},
     "output_type": "execute_result"
    }
   ],
   "source": [
    "device_map"
   ]
  },
  {
   "cell_type": "code",
   "execution_count": 22,
   "metadata": {},
   "outputs": [],
   "source": [
    "device_map[\"language_projection\"] = device_map[\"language_model.shared\"] = device_map[\"language_model.decoder.embed_tokens\"] = device_map[\"language_model.encoder.embed_tokens\"] = device_map[\"language_model.lm_head\"]"
   ]
  },
  {
   "cell_type": "code",
   "execution_count": 23,
   "metadata": {},
   "outputs": [
    {
     "data": {
      "text/plain": [
       "OrderedDict([('query_tokens', 0),\n",
       "             ('vision_model', 0),\n",
       "             ('qformer', 0),\n",
       "             ('language_projection', 4),\n",
       "             ('language_model.shared', 4),\n",
       "             ('language_model.decoder.embed_tokens', 4),\n",
       "             ('language_model.encoder.embed_tokens', 4),\n",
       "             ('language_model.encoder.block.0', 0),\n",
       "             ('language_model.encoder.block.1', 0),\n",
       "             ('language_model.encoder.block.2', 0),\n",
       "             ('language_model.encoder.block.3', 0),\n",
       "             ('language_model.encoder.block.4', 0),\n",
       "             ('language_model.encoder.block.5', 0),\n",
       "             ('language_model.encoder.block.6', 1),\n",
       "             ('language_model.encoder.block.7', 1),\n",
       "             ('language_model.encoder.block.8', 1),\n",
       "             ('language_model.encoder.block.9', 1),\n",
       "             ('language_model.encoder.block.10', 1),\n",
       "             ('language_model.encoder.block.11', 1),\n",
       "             ('language_model.encoder.block.12', 1),\n",
       "             ('language_model.encoder.block.13', 1),\n",
       "             ('language_model.encoder.block.14', 1),\n",
       "             ('language_model.encoder.block.15', 1),\n",
       "             ('language_model.encoder.block.16', 1),\n",
       "             ('language_model.encoder.block.17', 1),\n",
       "             ('language_model.encoder.block.18', 1),\n",
       "             ('language_model.encoder.block.19', 2),\n",
       "             ('language_model.encoder.block.20', 2),\n",
       "             ('language_model.encoder.block.21', 2),\n",
       "             ('language_model.encoder.block.22', 2),\n",
       "             ('language_model.encoder.block.23', 2),\n",
       "             ('language_model.encoder.final_layer_norm', 2),\n",
       "             ('language_model.encoder.dropout', 2),\n",
       "             ('language_model.decoder.block.0', 2),\n",
       "             ('language_model.decoder.block.1', 2),\n",
       "             ('language_model.decoder.block.2', 2),\n",
       "             ('language_model.decoder.block.3', 2),\n",
       "             ('language_model.decoder.block.4', 2),\n",
       "             ('language_model.decoder.block.5', 2),\n",
       "             ('language_model.decoder.block.6', 3),\n",
       "             ('language_model.decoder.block.7', 3),\n",
       "             ('language_model.decoder.block.8', 3),\n",
       "             ('language_model.decoder.block.9', 3),\n",
       "             ('language_model.decoder.block.10', 3),\n",
       "             ('language_model.decoder.block.11', 3),\n",
       "             ('language_model.decoder.block.12', 3),\n",
       "             ('language_model.decoder.block.13', 3),\n",
       "             ('language_model.decoder.block.14', 3),\n",
       "             ('language_model.decoder.block.15', 3),\n",
       "             ('language_model.decoder.block.16', 4),\n",
       "             ('language_model.decoder.block.17', 4),\n",
       "             ('language_model.decoder.block.18', 4),\n",
       "             ('language_model.decoder.block.19', 4),\n",
       "             ('language_model.decoder.block.20', 4),\n",
       "             ('language_model.decoder.block.21', 4),\n",
       "             ('language_model.decoder.block.22', 4),\n",
       "             ('language_model.decoder.block.23', 4),\n",
       "             ('language_model.decoder.final_layer_norm', 4),\n",
       "             ('language_model.decoder.dropout', 4),\n",
       "             ('language_model.lm_head', 4)])"
      ]
     },
     "execution_count": 23,
     "metadata": {},
     "output_type": "execute_result"
    }
   ],
   "source": [
    "device_map"
   ]
  },
  {
   "cell_type": "code",
   "execution_count": 24,
   "metadata": {},
   "outputs": [
    {
     "data": {
      "application/vnd.jupyter.widget-view+json": {
       "model_id": "650a3c07fd8d4cb59c2f0de397e3e9f7",
       "version_major": 2,
       "version_minor": 0
      },
      "text/plain": [
       "Loading checkpoint shards:   0%|          | 0/6 [00:00<?, ?it/s]"
      ]
     },
     "metadata": {},
     "output_type": "display_data"
    }
   ],
   "source": [
    "model = Blip2ForConditionalGeneration.from_pretrained(CHECK_POINT, device_map=device_map)"
   ]
  },
  {
   "cell_type": "code",
   "execution_count": 25,
   "metadata": {},
   "outputs": [
    {
     "name": "stderr",
     "output_type": "stream",
     "text": [
      "/home/yirguo/data/conda_env/cross_modal_homework/lib/python3.10/site-packages/huggingface_hub/file_download.py:1132: FutureWarning: `resume_download` is deprecated and will be removed in version 1.0.0. Downloads always resume when possible. If you want to force a new download, use `force_download=True`.\n",
      "  warnings.warn(\n"
     ]
    }
   ],
   "source": [
    "processor = Blip2Processor.from_pretrained(CHECK_POINT)"
   ]
  },
  {
   "cell_type": "code",
   "execution_count": 26,
   "metadata": {},
   "outputs": [
    {
     "name": "stderr",
     "output_type": "stream",
     "text": [
      "The `language_model` is not in the `hf_device_map` dictionary and you are running your script in a multi-GPU environment. this may lead to unexpected behavior when using `accelerate`. Please pass a `device_map` that contains `language_model` to remove this warning. Please refer to https://github.com/huggingface/blog/blob/main/accelerate-large-models.md for more details on creating a `device_map` for large models.\n",
      "/home/yirguo/data/conda_env/cross_modal_homework/lib/python3.10/site-packages/transformers/generation/utils.py:1141: UserWarning: Using the model-agnostic default `max_length` (=20) to control the generation length. We recommend setting `max_new_tokens` to control the maximum length of the generation.\n",
      "  warnings.warn(\n"
     ]
    },
    {
     "name": "stdout",
     "output_type": "stream",
     "text": [
      "a clock tower\n"
     ]
    }
   ],
   "source": [
    "img_url = 'https://gker-love.oss-cn-beijing.aliyuncs.com/Naive/messages/6e6c01ed-29bb-447d-8790-4f068d0b6e8a/da6a1872-5d75-478d-a5ac-8e5e24864df4.jpeg' \n",
    "raw_image = Image.open(requests.get(img_url, stream=True).raw).convert('RGB')\n",
    "\n",
    "question = \"What do you see in the image?\"\n",
    "inputs = processor(raw_image, question, return_tensors=\"pt\").to(\"cuda\")\n",
    "\n",
    "out = model.generate(**inputs)\n",
    "print(processor.decode(out[0], skip_special_tokens=True))"
   ]
  },
  {
   "cell_type": "code",
   "execution_count": null,
   "metadata": {},
   "outputs": [],
   "source": []
  }
 ],
 "metadata": {
  "kernelspec": {
   "display_name": "cross_modal_homework",
   "language": "python",
   "name": "python3"
  },
  "language_info": {
   "codemirror_mode": {
    "name": "ipython",
    "version": 3
   },
   "file_extension": ".py",
   "mimetype": "text/x-python",
   "name": "python",
   "nbconvert_exporter": "python",
   "pygments_lexer": "ipython3",
   "version": "3.1.undefined"
  }
 },
 "nbformat": 4,
 "nbformat_minor": 2
}
