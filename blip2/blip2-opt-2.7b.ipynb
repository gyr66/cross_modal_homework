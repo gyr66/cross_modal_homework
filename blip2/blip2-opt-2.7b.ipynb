{
 "cells": [
  {
   "cell_type": "code",
   "execution_count": 1,
   "metadata": {},
   "outputs": [],
   "source": [
    "from accelerate import infer_auto_device_map, init_empty_weights\n",
    "from transformers import Blip2Processor, Blip2ForConditionalGeneration, Blip2Config\n",
    "from PIL import Image\n",
    "import requests"
   ]
  },
  {
   "cell_type": "code",
   "execution_count": 2,
   "metadata": {},
   "outputs": [],
   "source": [
    "CHECK_POINT = \"Salesforce/blip2-opt-2.7b\""
   ]
  },
  {
   "cell_type": "code",
   "execution_count": 3,
   "metadata": {},
   "outputs": [
    {
     "name": "stderr",
     "output_type": "stream",
     "text": [
      "/home/yirguo/data/conda_env/cross_modal_homework/lib/python3.10/site-packages/huggingface_hub/file_download.py:1132: FutureWarning: `resume_download` is deprecated and will be removed in version 1.0.0. Downloads always resume when possible. If you want to force a new download, use `force_download=True`.\n",
      "  warnings.warn(\n"
     ]
    }
   ],
   "source": [
    "config = Blip2Config.from_pretrained(CHECK_POINT)\n",
    "with init_empty_weights():\n",
    "    model = Blip2ForConditionalGeneration(config)\n",
    "    model.tie_weights()"
   ]
  },
  {
   "cell_type": "code",
   "execution_count": 4,
   "metadata": {},
   "outputs": [
    {
     "name": "stderr",
     "output_type": "stream",
     "text": [
      "The model weights are not tied. Please use the `tie_weights` method before using the `infer_auto_device` function.\n"
     ]
    },
    {
     "data": {
      "text/plain": [
       "OrderedDict([('query_tokens', 0),\n",
       "             ('vision_model', 0),\n",
       "             ('qformer', 0),\n",
       "             ('language_projection', 0),\n",
       "             ('language_model.model.decoder.embed_tokens', 0),\n",
       "             ('language_model.model.decoder.embed_positions', 0),\n",
       "             ('language_model.model.decoder.final_layer_norm', 0),\n",
       "             ('language_model.model.decoder.layers.0', 0),\n",
       "             ('language_model.model.decoder.layers.1', 0),\n",
       "             ('language_model.model.decoder.layers.2', 0),\n",
       "             ('language_model.model.decoder.layers.3', 0),\n",
       "             ('language_model.model.decoder.layers.4', 0),\n",
       "             ('language_model.model.decoder.layers.5', 0),\n",
       "             ('language_model.model.decoder.layers.6', 0),\n",
       "             ('language_model.model.decoder.layers.7', 0),\n",
       "             ('language_model.model.decoder.layers.8', 0),\n",
       "             ('language_model.model.decoder.layers.9', 0),\n",
       "             ('language_model.model.decoder.layers.10', 1),\n",
       "             ('language_model.model.decoder.layers.11', 1),\n",
       "             ('language_model.model.decoder.layers.12', 1),\n",
       "             ('language_model.model.decoder.layers.13', 1),\n",
       "             ('language_model.model.decoder.layers.14', 1),\n",
       "             ('language_model.model.decoder.layers.15', 1),\n",
       "             ('language_model.model.decoder.layers.16', 1),\n",
       "             ('language_model.model.decoder.layers.17', 1),\n",
       "             ('language_model.model.decoder.layers.18', 1),\n",
       "             ('language_model.model.decoder.layers.19', 1),\n",
       "             ('language_model.model.decoder.layers.20', 1),\n",
       "             ('language_model.model.decoder.layers.21', 1),\n",
       "             ('language_model.model.decoder.layers.22', 1),\n",
       "             ('language_model.model.decoder.layers.23', 1),\n",
       "             ('language_model.model.decoder.layers.24', 1),\n",
       "             ('language_model.model.decoder.layers.25', 1),\n",
       "             ('language_model.model.decoder.layers.26', 1),\n",
       "             ('language_model.model.decoder.layers.27', 1),\n",
       "             ('language_model.model.decoder.layers.28', 1),\n",
       "             ('language_model.model.decoder.layers.29', 1),\n",
       "             ('language_model.model.decoder.layers.30', 1),\n",
       "             ('language_model.model.decoder.layers.31', 1),\n",
       "             ('language_model.lm_head', 1)])"
      ]
     },
     "execution_count": 4,
     "metadata": {},
     "output_type": "execute_result"
    }
   ],
   "source": [
    "device_map = infer_auto_device_map(model, no_split_module_classes=[\"OPTDecoderLayer\"], dtype=\"float32\", max_memory={0: \"8GiB\", 1: \"10GiB\", 2: \"10Gib\", 3: \"10Gib\", 4: \"9Gib\", 5: \"10Gib\", 6: \"10Gib\", 7: \"10Gib\"})\n",
    "device_map"
   ]
  },
  {
   "cell_type": "code",
   "execution_count": 5,
   "metadata": {},
   "outputs": [],
   "source": [
    "device_map['language_model.lm_head'] = device_map['language_model.model.decoder.embed_tokens']"
   ]
  },
  {
   "cell_type": "code",
   "execution_count": 6,
   "metadata": {},
   "outputs": [
    {
     "data": {
      "application/vnd.jupyter.widget-view+json": {
       "model_id": "705e2065f5b143ceaf0c30ec096a6abb",
       "version_major": 2,
       "version_minor": 0
      },
      "text/plain": [
       "Loading checkpoint shards:   0%|          | 0/2 [00:00<?, ?it/s]"
      ]
     },
     "metadata": {},
     "output_type": "display_data"
    },
    {
     "name": "stderr",
     "output_type": "stream",
     "text": [
      "The `language_model` is not in the `hf_device_map` dictionary and you are running your script in a multi-GPU environment. this may lead to unexpected behavior when using `accelerate`. Please pass a `device_map` that contains `language_model` to remove this warning. Please refer to https://github.com/huggingface/blog/blob/main/accelerate-large-models.md for more details on creating a `device_map` for large models.\n"
     ]
    },
    {
     "name": "stdout",
     "output_type": "stream",
     "text": [
      "a large building with a clock tower\n"
     ]
    },
    {
     "ename": "",
     "evalue": "",
     "output_type": "error",
     "traceback": [
      "\u001b[1;31mThe Kernel crashed while executing code in the current cell or a previous cell. \n",
      "\u001b[1;31mPlease review the code in the cell(s) to identify a possible cause of the failure. \n",
      "\u001b[1;31mClick <a href='https://aka.ms/vscodeJupyterKernelCrash'>here</a> for more info. \n",
      "\u001b[1;31mView Jupyter <a href='command:jupyter.viewOutput'>log</a> for further details."
     ]
    }
   ],
   "source": [
    "processor = Blip2Processor.from_pretrained(\"Salesforce/blip2-opt-2.7b\")\n",
    "model = Blip2ForConditionalGeneration.from_pretrained(\"Salesforce/blip2-opt-2.7b\", device_map=device_map)\n",
    "\n",
    "img_url = 'https://gker-love.oss-cn-beijing.aliyuncs.com/Naive/messages/6e6c01ed-29bb-447d-8790-4f068d0b6e8a/da6a1872-5d75-478d-a5ac-8e5e24864df4.jpeg' \n",
    "raw_image = Image.open(requests.get(img_url, stream=True).raw).convert('RGB')\n",
    "\n",
    "question = \"\"\n",
    "inputs = processor(raw_image, question, return_tensors=\"pt\").to(\"cuda\")\n",
    "\n",
    "out = model.generate(**inputs)\n",
    "print(processor.decode(out[0], skip_special_tokens=True).strip())"
   ]
  },
  {
   "cell_type": "code",
   "execution_count": null,
   "metadata": {},
   "outputs": [],
   "source": []
  }
 ],
 "metadata": {
  "kernelspec": {
   "display_name": "cross_modal_homework",
   "language": "python",
   "name": "python3"
  },
  "language_info": {
   "codemirror_mode": {
    "name": "ipython",
    "version": 3
   },
   "file_extension": ".py",
   "mimetype": "text/x-python",
   "name": "python",
   "nbconvert_exporter": "python",
   "pygments_lexer": "ipython3",
   "version": "3.10.14"
  }
 },
 "nbformat": 4,
 "nbformat_minor": 2
}
